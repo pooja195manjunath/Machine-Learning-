{
  "nbformat": 4,
  "nbformat_minor": 0,
  "metadata": {
    "colab": {
      "provenance": [],
      "authorship_tag": "ABX9TyMgCW/H20/06JSB2+hXH+MT",
      "include_colab_link": true
    },
    "kernelspec": {
      "name": "python3",
      "display_name": "Python 3"
    },
    "language_info": {
      "name": "python"
    }
  },
  "cells": [
    {
      "cell_type": "markdown",
      "metadata": {
        "id": "view-in-github",
        "colab_type": "text"
      },
      "source": [
        "<a href=\"https://colab.research.google.com/github/pooja195manjunath/Machine-Learning-/blob/main/1bm22cs195_Lab4__linear_multi_logistic_regs.ipynb\" target=\"_parent\"><img src=\"https://colab.research.google.com/assets/colab-badge.svg\" alt=\"Open In Colab\"/></a>"
      ]
    },
    {
      "cell_type": "markdown",
      "source": [
        "Linear regression"
      ],
      "metadata": {
        "id": "W0fbOYGAU3RF"
      }
    },
    {
      "cell_type": "code",
      "execution_count": null,
      "metadata": {
        "colab": {
          "base_uri": "https://localhost:8080/",
          "height": 507
        },
        "id": "QVAue5zMSkM8",
        "outputId": "5969f363-3dbc-4bea-8a0c-aa668d5e5966"
      },
      "outputs": [
        {
          "output_type": "display_data",
          "data": {
            "text/plain": [
              "<Figure size 640x480 with 1 Axes>"
            ],
            "image/png": "[encoded data removed]"
          },
          "metadata": {}
        },
        {
          "output_type": "stream",
          "name": "stdout",
          "text": [
            "Coefficients: [2.14285714]\n",
            "Intercept: -0.7142857142857126\n"
          ]
        }
      ],
      "source": [
        "# Linear Regression Example\n",
        "\n",
        "# Importing necessary libraries\n",
        "import numpy as np\n",
        "import pandas as pd\n",
        "import matplotlib.pyplot as plt\n",
        "from sklearn.model_selection import train_test_split\n",
        "from sklearn.linear_model import LinearRegression\n",
        "\n",
        "# Sample data\n",
        "data = {\n",
        "    'X': [1, 2, 3, 4, 5],\n",
        "    'y': [2, 3, 5, 7, 11]\n",
        "}\n",
        "df = pd.DataFrame(data)\n",
        "\n",
        "# Splitting the data\n",
        "X = df[['X']]\n",
        "y = df['y']\n",
        "X_train, X_test, y_train, y_test = train_test_split(X, y, test_size=0.2, random_state=42)\n",
        "\n",
        "# Creating the model\n",
        "model = LinearRegression()\n",
        "model.fit(X_train, y_train)\n",
        "\n",
        "# Predictions\n",
        "y_pred = model.predict(X_test)\n",
        "\n",
        "# Plotting\n",
        "plt.scatter(X, y, color='blue', label='Data Points')\n",
        "plt.plot(X_test, y_pred, color='red', label='Regression Line')\n",
        "plt.title('Linear Regression')\n",
        "plt.xlabel('X')\n",
        "plt.ylabel('y')\n",
        "plt.legend()\n",
        "plt.show()\n",
        "\n",
        "print(\"Coefficients:\", model.coef_)\n",
        "print(\"Intercept:\", model.intercept_)"
      ]
    },
    {
      "cell_type": "markdown",
      "source": [
        "Multiple Regression"
      ],
      "metadata": {
        "id": "N35cyl7rU_1t"
      }
    },
    {
      "cell_type": "code",
      "source": [
        "# Multiple Regression Example\n",
        "\n",
        "# Importing necessary libraries\n",
        "import numpy as np\n",
        "import pandas as pd\n",
        "import matplotlib.pyplot as plt\n",
        "from sklearn.model_selection import train_test_split\n",
        "from sklearn.linear_model import LinearRegression\n",
        "\n",
        "# Sample data\n",
        "data = {\n",
        "    'X1': [1, 2, 3, 4, 5],\n",
        "    'X2': [2, 3, 4, 5, 6],\n",
        "    'y': [2, 3, 5, 7, 11]\n",
        "}\n",
        "df = pd.DataFrame(data)\n",
        "\n",
        "# Splitting the data\n",
        "X = df[['X1', 'X2']]\n",
        "y = df['y']\n",
        "X_train, X_test, y_train, y_test = train_test_split(X, y, test_size=0.2, random_state=42)\n",
        "\n",
        "# Creating the model\n",
        "model = LinearRegression()\n",
        "model.fit(X_train, y_train)\n",
        "\n",
        "# Predictions\n",
        "y_pred = model.predict(X_test)\n",
        "\n",
        "print(\"Coefficients:\", model.coef_)\n",
        "print(\"Intercept:\", model.intercept_)"
      ],
      "metadata": {
        "colab": {
          "base_uri": "https://localhost:8080/"
        },
        "id": "xiQ39FIDVCQD",
        "outputId": "21f8e215-0c8f-492f-8388-1736097242ae"
      },
      "execution_count": null,
      "outputs": [
        {
          "output_type": "stream",
          "name": "stdout",
          "text": [
            "Coefficients: [1.07142857 1.07142857]\n",
            "Intercept: -1.7857142857142865\n"
          ]
        }
      ]
    },
    {
      "cell_type": "markdown",
      "source": [
        "Logistic regression"
      ],
      "metadata": {
        "id": "lykojLzMVFpM"
      }
    },
    {
      "cell_type": "code",
      "source": [
        "# Logistic Regression Example\n",
        "\n",
        "# Importing necessary libraries\n",
        "import numpy as np\n",
        "import pandas as pd\n",
        "from sklearn.model_selection import train_test_split\n",
        "from sklearn.linear_model import LogisticRegression\n",
        "from sklearn.metrics import accuracy_score, confusion_matrix\n",
        "import matplotlib.pyplot as plt\n",
        "\n",
        "# Sample data\n",
        "data = {\n",
        "    'X1': [1, 2, 3, 4, 5, 6, 7, 8, 9, 10],\n",
        "    'X2': [2, 1, 2, 3, 5, 6, 7, 8, 9, 10],\n",
        "    'y': [0, 0, 0, 0, 1, 1, 1, 1, 1, 1]\n",
        "}\n",
        "df = pd.DataFrame(data)\n",
        "\n",
        "# Splitting the data\n",
        "X = df[['X1', 'X2']]\n",
        "y = df['y']\n",
        "X_train, X_test, y_train, y_test = train_test_split(X, y, test_size=0.2, random_state=42)\n",
        "\n",
        "# Creating the model\n",
        "model = LogisticRegression()\n",
        "model.fit(X_train, y_train)\n",
        "\n",
        "# Predictions\n",
        "y_pred = model.predict(X_test)\n",
        "\n",
        "# Evaluating the model\n",
        "accuracy = accuracy_score(y_test, y_pred)\n",
        "conf_matrix = confusion_matrix(y_test, y_pred)\n",
        "\n",
        "print(\"Accuracy:\", accuracy)\n",
        "print(\"Confusion Matrix:\\n\", conf_matrix)"
      ],
      "metadata": {
        "colab": {
          "base_uri": "https://localhost:8080/"
        },
        "id": "Wk-H7d_5VJB0",
        "outputId": "300eb343-82c3-49b1-a274-94b3956c00e5"
      },
      "execution_count": null,
      "outputs": [
        {
          "output_type": "stream",
          "name": "stdout",
          "text": [
            "Accuracy: 1.0\n",
            "Confusion Matrix:\n",
            " [[1 0]\n",
            " [0 1]]\n"
          ]
        }
      ]
    },
    {
      "cell_type": "code",
      "source": [
        "import pandas as pd\n",
        "import numpy as np\n",
        "import matplotlib.pyplot as plt\n",
        "import matplotlib.axes as ax\n",
        "from matplotlib.animation import FuncAnimation\n",
        "url = \"/content/data_for_lr.csv\"\n",
        "data = pd.read_csv(url)\n",
        "data\n",
        "\n",
        "# Drop the missing values\n",
        "data = data.dropna()\n",
        "\n",
        "# training dataset and labels\n",
        "train_input = np.array(data.x[0:500]).reshape(500, 1)\n",
        "train_output = np.array(data.y[0:500]).reshape(500, 1)\n",
        "\n",
        "# valid dataset and labels\n",
        "test_input = np.array(data.x[500:700]).reshape(199, 1)\n",
        "test_output = np.array(data.y[500:700]).reshape(199, 1)\n",
        "class LinearRegression:\n",
        "    def __init__(self):\n",
        "        self.parameters = {}\n",
        "\n",
        "    def forward_propagation(self, train_input):\n",
        "        m = self.parameters['m']\n",
        "        c = self.parameters['c']\n",
        "        predictions = np.multiply(m, train_input) + c\n",
        "        return predictions\n",
        "\n",
        "    def cost_function(self, predictions, train_output):\n",
        "        cost = np.mean((train_output - predictions) ** 2)\n",
        "        return cost\n",
        "\n",
        "    def backward_propagation(self, train_input, train_output, predictions):\n",
        "        derivatives = {}\n",
        "        df = (predictions-train_output)\n",
        "        # dm= 2/n * mean of (predictions-actual) * input\n",
        "        dm = 2 * np.mean(np.multiply(train_input, df))\n",
        "        # dc = 2/n * mean of (predictions-actual)\n",
        "        dc = 2 * np.mean(df)\n",
        "        derivatives['dm'] = dm\n",
        "        derivatives['dc'] = dc\n",
        "        return derivatives\n",
        "\n",
        "    def update_parameters(self, derivatives, learning_rate):\n",
        "        self.parameters['m'] = self.parameters['m'] - learning_rate * derivatives['dm']\n",
        "        self.parameters['c'] = self.parameters['c'] - learning_rate * derivatives['dc']\n",
        "\n",
        "    def train(self, train_input, train_output, learning_rate, iters):\n",
        "        # Initialize random parameters\n",
        "        self.parameters['m'] = np.random.uniform(0, 1) * -1\n",
        "        self.parameters['c'] = np.random.uniform(0, 1) * -1\n",
        "\n",
        "        # Initialize loss\n",
        "        self.loss = []\n",
        "\n",
        "        # Initialize figure and axis for animation\n",
        "        fig, ax = plt.subplots()\n",
        "        x_vals = np.linspace(min(train_input), max(train_input), 100)\n",
        "        line, = ax.plot(x_vals, self.parameters['m'] * x_vals +\n",
        "                        self.parameters['c'], color='red', label='Regression Line')\n",
        "        ax.scatter(train_input, train_output, marker='o',\n",
        "                color='green', label='Training Data')\n",
        "\n",
        "        # Set y-axis limits to exclude negative values\n",
        "        ax.set_ylim(0, max(train_output) + 1)\n",
        "\n",
        "        def update(frame):\n",
        "            # Forward propagation\n",
        "            predictions = self.forward_propagation(train_input)\n",
        "\n",
        "            # Cost function\n",
        "            cost = self.cost_function(predictions, train_output)\n",
        "\n",
        "            # Back propagation\n",
        "            derivatives = self.backward_propagation(\n",
        "                train_input, train_output, predictions)\n",
        "\n",
        "            # Update parameters\n",
        "            self.update_parameters(derivatives, learning_rate)\n",
        "\n",
        "            # Update the regression line\n",
        "            line.set_ydata(self.parameters['m']\n",
        "                        * x_vals + self.parameters['c'])\n",
        "\n",
        "            # Append loss and print\n",
        "            self.loss.append(cost)\n",
        "            print(\"Iteration = {}, Loss = {}\".format(frame + 1, cost))\n",
        "\n",
        "            return line,\n",
        "        # Create animation\n",
        "        ani = FuncAnimation(fig, update, frames=iters, interval=200, blit=True)\n",
        "\n",
        "        # Save the animation as a video file (e.g., MP4)\n",
        "        ani.save('linear_regression_A.gif', writer='ffmpeg')\n",
        "\n",
        "        plt.xlabel('Input')\n",
        "        plt.ylabel('Output')\n",
        "        plt.title('Linear Regression')\n",
        "        plt.legend()\n",
        "        plt.show()\n",
        "\n",
        "        return self.parameters, self.loss\n",
        "#Example usage\n",
        "linear_reg = LinearRegression()\n",
        "parameters, loss = linear_reg.train(train_input, train_output, 0.0001, 20)\n",
        "\n"
      ],
      "metadata": {
        "colab": {
          "base_uri": "https://localhost:8080/",
          "height": 871
        },
        "id": "c-ZU258lehrL",
        "outputId": "2aef4823-b595-47a3-fe9f-47aa0d94d1b5"
      },
      "execution_count": null,
      "outputs": [
        {
          "output_type": "stream",
          "name": "stdout",
          "text": [
            "Iteration = 1, Loss = 4555.717141960952\n",
            "Iteration = 1, Loss = 555.8917874189143\n",
            "Iteration = 1, Loss = 73.86930343512178\n",
            "Iteration = 1, Loss = 15.780348420752416\n",
            "Iteration = 2, Loss = 8.779997173412934\n",
            "Iteration = 3, Loss = 7.936378660117342\n",
            "Iteration = 4, Loss = 7.834713442929137\n",
            "Iteration = 5, Loss = 7.8224616723509595\n",
            "Iteration = 6, Loss = 7.820985195146357\n",
            "Iteration = 7, Loss = 7.820807258057723\n",
            "Iteration = 8, Loss = 7.820785809185198\n",
            "Iteration = 9, Loss = 7.820783218846275\n",
            "Iteration = 10, Loss = 7.8207829011664405\n",
            "Iteration = 11, Loss = 7.8207828573673135\n",
            "Iteration = 12, Loss = 7.820782846574347\n",
            "Iteration = 13, Loss = 7.8207828397595405\n",
            "Iteration = 14, Loss = 7.8207828334246985\n",
            "Iteration = 15, Loss = 7.820782827148256\n",
            "Iteration = 16, Loss = 7.820782820879404\n",
            "Iteration = 17, Loss = 7.82078281461202\n",
            "Iteration = 18, Loss = 7.8207828083453705\n",
            "Iteration = 19, Loss = 7.820782802079366\n",
            "Iteration = 20, Loss = 7.820782795813992\n"
          ]
        },
        {
          "output_type": "display_data",
          "data": {
            "text/plain": [
              "<Figure size 640x480 with 1 Axes>"
            ],
            "image/png": "[encoded data removed]"
          },
          "metadata": {}
        }
      ]
    },
    {
      "cell_type": "code",
      "source": [],
      "metadata": {
        "id": "q5Q4DXBzejVa"
      },
      "execution_count": null,
      "outputs": []
    }
  ]
}